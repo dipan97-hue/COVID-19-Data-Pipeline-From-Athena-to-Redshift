{
 "cells": [
  {
   "cell_type": "code",
   "execution_count": 1,
   "id": "d90019ed",
   "metadata": {},
   "outputs": [],
   "source": [
    "import boto3\n",
    "import pandas as pd\n",
    "from io import StringIO\n",
    "import configparser\n"
   ]
  },
  {
   "cell_type": "code",
   "execution_count": 2,
   "id": "9e321c18",
   "metadata": {},
   "outputs": [],
   "source": [
    "config = configparser.ConfigParser()\n",
    "config.read_file(open('cluster.config'))"
   ]
  },
  {
   "cell_type": "code",
   "execution_count": 3,
   "id": "5032e9a1",
   "metadata": {},
   "outputs": [],
   "source": [
    "KEY = config.get('AWS','KEY')\n",
    "SECRET = config.get('AWS','SECRET')\n",
    "AWS_REGION = 'us-east-1'\n",
    "STAGGING_AREA = 's3://covid-19-output-storage/output/'\n",
    "BUCKET_NAME = 'covid-19-storage'\n",
    "AWS_DIRECTORY = 'output'\n",
    "SCHEMA_NAME = 'covid-data'"
   ]
  },
  {
   "cell_type": "code",
   "execution_count": 4,
   "id": "40e4ac61",
   "metadata": {},
   "outputs": [],
   "source": [
    "athena_client = boto3.client('athena', aws_access_key_id = KEY, aws_secret_access_key = SECRET, region_name = AWS_REGION)"
   ]
  },
  {
   "cell_type": "code",
   "execution_count": 5,
   "id": "13ce903a",
   "metadata": {},
   "outputs": [
    {
     "data": {
      "text/plain": [
       "<botocore.client.Athena at 0x2cb86dffc70>"
      ]
     },
     "execution_count": 5,
     "metadata": {},
     "output_type": "execute_result"
    }
   ],
   "source": [
    "athena_client"
   ]
  },
  {
   "cell_type": "code",
   "execution_count": 6,
   "id": "60d2fcc5",
   "metadata": {},
   "outputs": [],
   "source": [
    "#Gets the data from athena and converts it into pandas dataframe\n",
    "Dict = {}\n",
    "def download_and_load_query_results(\n",
    "    client: boto3.client, query_response: Dict\n",
    ") -> pd.DataFrame:\n",
    "    while True:\n",
    "        try:\n",
    "            client.get_query_results(QueryExecutionId=query_response[\"QueryExecutionId\"])\n",
    "            break\n",
    "        except Exception as err:\n",
    "            if \"not yet finished\" in str(err):\n",
    "                time.sleep(0.01)\n",
    "            else:\n",
    "                raise err\n",
    "    temp_file_location: str = \"athena_query_results.csv\"\n",
    "    s3_client = boto3.client(\"s3\",\n",
    "                            aws_access_key_id = AWS_ACCESS_KEY,\n",
    "                            aws_secret_access_key_id = AWS_SECRET_KEY,\n",
    "                            region_name = AWS_REGION,)\n",
    "    s3_client.download_file(S3_BUCKET_NAME,\n",
    "                           f\"{S3_OUTPUT_DIRECTORY}/{query_response['QueryExecutionId']}.csv\",\n",
    "                           temp_file_location,)\n",
    "    return pd.read_csv(temp_file_location)"
   ]
  },
  {
   "cell_type": "code",
   "execution_count": null,
   "id": "2aa34cef",
   "metadata": {},
   "outputs": [],
   "source": []
  },
  {
   "cell_type": "code",
   "execution_count": null,
   "id": "0fa48f56",
   "metadata": {},
   "outputs": [],
   "source": []
  }
 ],
 "metadata": {
  "kernelspec": {
   "display_name": "Python 3 (ipykernel)",
   "language": "python",
   "name": "python3"
  },
  "language_info": {
   "codemirror_mode": {
    "name": "ipython",
    "version": 3
   },
   "file_extension": ".py",
   "mimetype": "text/x-python",
   "name": "python",
   "nbconvert_exporter": "python",
   "pygments_lexer": "ipython3",
   "version": "3.10.5"
  }
 },
 "nbformat": 4,
 "nbformat_minor": 5
}
