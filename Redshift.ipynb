{
 "cells": [
  {
   "cell_type": "code",
   "execution_count": 1,
   "id": "5013b6b8",
   "metadata": {},
   "outputs": [],
   "source": [
    "import boto3\n",
    "import pandas as pd\n",
    "import psycopg2\n",
    "import json"
   ]
  },
  {
   "cell_type": "code",
   "execution_count": 2,
   "id": "db7ab3ab",
   "metadata": {},
   "outputs": [],
   "source": [
    "import configparser\n",
    "config = configparser.ConfigParser()\n",
    "config.read_file(open('cluster.config'))"
   ]
  },
  {
   "cell_type": "code",
   "execution_count": 1,
   "id": "1e901945",
   "metadata": {},
   "outputs": [],
   "source": [
    "config.get('DWH','DWH_DB')"
   ]
  },
  {
   "cell_type": "code",
   "execution_count": 3,
   "id": "278898c9",
   "metadata": {},
   "outputs": [],
   "source": [
    "\n",
    "KEY = config.get('AWS','KEY')\n",
    "SECRET = config.get('AWS','SECRET')\n",
    "\n",
    "\n",
    "DWH_CLUSTER_TYPE = config.get('DWH','DWH_CLUSTER_TYPE')\n",
    "DWH_NUM_NODES = config.get('DWH','DWH_NUM_NODES')\n",
    "DWH_NODE_TYPE = config.get('DWH','DWH_NODE_TYPE')\n",
    "DWH_CLUSTER_IDENTIFIER = config.get('DWH','DWH_CLUSTER_IDENTIFIER')\n",
    "DWH_DB = config.get('DWH','DWH_DB')\n",
    "DWH_DB_USER = config.get('DWH','DWH_DB_USER')\n",
    "DWH_DB_PASSWORD = config.get('DWH','DWH_DB_PASSWORD')\n",
    "DWH_PORT = config.get('DWH','DWH_PORT')\n",
    "DWH_IAM_ROLE_NAME = config.get('DWH','DWH_IAM_ROLE_NAME')\n",
    "\n",
    "(DWH_CLUSTER_TYPE,DWH_NODE_TYPE,DWH_DB_USER)"
   ]
  },
  {
   "cell_type": "code",
   "execution_count": 4,
   "id": "8e2268cf",
   "metadata": {},
   "outputs": [],
   "source": [
    "data = {\n",
    "    \"Param\": ['KEY', 'SECRET', 'DWH_CLUSTER_TYPE', 'DWH_NUM_NODES', 'DWH_NODE_TYPE',\n",
    "              'DWH_CLUSTER_IDENTIFIER', 'DWH_DB', 'DWH_DB_USER', 'DWH_DB_PASSWORD',\n",
    "              'DWH_PORT', 'DWH_IAM_ROLE_NAME'],\n",
    "    \"Value\": [KEY, SECRET, DWH_CLUSTER_TYPE, DWH_NUM_NODES, DWH_NODE_TYPE,\n",
    "              DWH_CLUSTER_IDENTIFIER, DWH_DB, DWH_DB_USER, DWH_DB_PASSWORD,\n",
    "              DWH_PORT, DWH_IAM_ROLE_NAME]\n",
    "}\n",
    "\n",
    "df = pd.DataFrame(data)\n",
    "df"
   ]
  },
  {
   "cell_type": "code",
   "execution_count": 5,
   "id": "23ad0c25",
   "metadata": {},
   "outputs": [],
   "source": [
    "ec2 = boto3.resource('ec2', region_name = 'us-east-1',\n",
    "                    aws_access_key_id = KEY,\n",
    "                    aws_secret_access_key = SECRET)\n",
    "s3 = boto3.resource('s3', region_name = 'us-east-1',\n",
    "                 aws_access_key_id =KEY,\n",
    "                 aws_secret_access_key = SECRET)\n",
    "iam = boto3.client('iam', region_name = 'us-east-1',\n",
    "                  aws_access_key_id =KEY,\n",
    "                  aws_secret_access_key = SECRET)\n",
    "redshift = boto3.client('redshift' , region_name = 'us-east-1',\n",
    "                       aws_access_key_id = KEY,\n",
    "                       aws_secret_access_key = SECRET)\n"
   ]
  },
  {
   "cell_type": "code",
   "execution_count": 5,
   "id": "f6e0dbce",
   "metadata": {},
   "outputs": [],
   "source": [
    "bucket_name = 'covid-19-storage'\n",
    "try:\n",
    "    \n",
    "    response = s3.create_bucket(Bucket = bucket_name,\n",
    "                                ACL = 'private'\n",
    "                            )\n",
    "    print(\"Bucket created\")\n",
    "except Exception as e:\n",
    "    print(e)\n"
   ]
  },
  {
   "cell_type": "code",
   "execution_count": 6,
   "id": "f566549d",
   "metadata": {},
   "outputs": [],
   "source": [
    "# Output Bucket##\n",
    "bucket_name = 'covid-19-output-storage'\n",
    "try:\n",
    "    \n",
    "    response = s3.create_bucket(Bucket = bucket_name,\n",
    "                                ACL = 'private'\n",
    "                            )\n",
    "    print(\"Bucket created\")\n",
    "except Exception as e:\n",
    "    print(e)"
   ]
  },
  {
   "cell_type": "code",
   "execution_count": 29,
   "id": "19143b34",
   "metadata": {},
   "outputs": [
    {
     "name": "stdout",
     "output_type": "stream",
     "text": [
      "Files uploaded successfully\n",
      "Files uploaded successfully\n",
      "Files uploaded successfully\n"
     ]
    }
   ],
   "source": [
    "# Files to be uploaded\n",
    "\n",
    "s3 = boto3.client('s3',region_name = 'us-east-1',\n",
    "                 aws_access_key_id =KEY,\n",
    "                 aws_secret_access_key = SECRET)\n",
    "bucket_name = 'datatobestored'\n",
    "files_to_uploaded = ['allusers_pipe.txt','date2008_pipe.txt', 'category_pipe.txt']\n",
    "\n",
    "for file_path in files_to_uploaded:\n",
    "    try:\n",
    "        key = file_path.split('/')[-1]\n",
    "        response = s3.upload_file(file_path,bucket_name, key)\n",
    "        print(\"Files uploaded successfully\")                         \n",
    "        \n",
    "    except Exception as e:\n",
    "        print(e)\n",
    "    "
   ]
  },
  {
   "cell_type": "code",
   "execution_count": 7,
   "id": "c30d944b",
   "metadata": {},
   "outputs": [],
   "source": [
    "\n",
    "# Specify the bucket name\n",
    "bucket_name = 'datatobestored'\n",
    "\n",
    "# Retrieve the bucket object\n",
    "bucket = s3.Bucket(bucket_name)\n",
    "\n",
    "# Iterate over the objects in the bucket\n",
    "try:\n",
    "    for my_bucket_object in bucket.objects.all():\n",
    "        print(my_bucket_object.key)\n",
    "except Exception as e:\n",
    "    print(\"Error iterating over objects in the bucket:\", e)\n"
   ]
  },
  {
   "cell_type": "code",
   "execution_count": 44,
   "id": "205d4951",
   "metadata": {},
   "outputs": [],
   "source": [
    "roleARN = iam.get_role(RoleName = DWH_IAM_ROLE_NAME)['Role']['Arn']"
   ]
  },
  {
   "cell_type": "code",
   "execution_count": 8,
   "id": "4f1001ce",
   "metadata": {},
   "outputs": [],
   "source": [
    "# [roleARN]"
   ]
  },
  {
   "cell_type": "code",
   "execution_count": 9,
   "id": "3d523be4",
   "metadata": {},
   "outputs": [],
   "source": [
    "try:\n",
    "    response = redshift.create_cluster(\n",
    "        DBName=DWH_DB,\n",
    "        ClusterIdentifier=DWH_CLUSTER_IDENTIFIER,\n",
    "        ClusterType=DWH_CLUSTER_TYPE,\n",
    "        NodeType=DWH_NODE_TYPE,\n",
    "        MasterUsername=DWH_DB_USER,\n",
    "        MasterUserPassword=DWH_DB_PASSWORD,\n",
    "        IamRoles=[roleARN]\n",
    "    )\n",
    "    print(\"Cluster creation request successful.\")\n",
    "except Exception as e:\n",
    "    print(\"Cluster creation failed:\", e)"
   ]
  },
  {
   "cell_type": "code",
   "execution_count": 10,
   "id": "c9787b24",
   "metadata": {},
   "outputs": [],
   "source": [
    "response = redshift.describe_clusters(\n",
    "    ClusterIdentifier = DWH_CLUSTER_IDENTIFIER)\n",
    "response"
   ]
  },
  {
   "cell_type": "code",
   "execution_count": 11,
   "id": "77e37cf3",
   "metadata": {},
   "outputs": [],
   "source": [
    "def poppingredshift(props):\n",
    "    key_values = ['VpcId', 'NodeType', 'ClusterNodes' ,'MasterUsername', 'DBName' ,'Endpoint']\n",
    "    x = [(k,v) for k,v in props.items() if k in key_values]\n",
    "    return pd.DataFrame(data = x , columns = [\"Key\", \"Value\"])\n",
    "response = redshift.describe_clusters(\n",
    "    ClusterIdentifier = DWH_CLUSTER_IDENTIFIER)['Clusters'][0]\n",
    "poppingredshift(response)"
   ]
  },
  {
   "cell_type": "code",
   "execution_count": 66,
   "id": "7fc8e1c8",
   "metadata": {},
   "outputs": [],
   "source": [
    "df = response\n",
    "DWH_ENDPOINT = df['Endpoint']['Address']\n",
    "DB_NAME = df['DBName']\n",
    "DB_USER = df['MasterUsername']"
   ]
  },
  {
   "cell_type": "code",
   "execution_count": 51,
   "id": "f9665689",
   "metadata": {},
   "outputs": [],
   "source": [
    "# response = redshift.delete_cluster(\n",
    "#     ClusterIdentifier=DWH_CLUSTER_IDENTIFIER,\n",
    "#     SkipFinalClusterSnapshot=True,\n",
    "#     FinalClusterSnapshotIdentifier='',\n",
    "#     FinalClusterSnapshotRetentionPeriod=-1\n",
    "# )"
   ]
  },
  {
   "cell_type": "code",
   "execution_count": 69,
   "id": "4c77b548",
   "metadata": {},
   "outputs": [],
   "source": [
    "## Connect to the redshift cluster\n",
    "try:\n",
    "    \n",
    "    conn = psycopg2.connect(host = DWH_ENDPOINT, \n",
    "                           dbname = DB_NAME, user = DB_USER , password = 'Password123', \n",
    "                           port = 5439)\n",
    "except Exception as e:\n",
    "    print(e)\n",
    "conn.set_session(autocommit = True)"
   ]
  },
  {
   "cell_type": "code",
   "execution_count": 71,
   "id": "e35ebfdd",
   "metadata": {},
   "outputs": [],
   "source": [
    "try:\n",
    "    cur = conn.cursor()\n",
    "except Exception as e:\n",
    "    print(e)\n",
    "conn.close()"
   ]
  },
  {
   "cell_type": "code",
   "execution_count": 73,
   "id": "789ffd67",
   "metadata": {},
   "outputs": [],
   "source": [
    "# redshift.delete_cluster(ClusterIdentifier = DWH_CLUSTER_IDENTIFIER, SkipFinalClusterSnapshot = True)"
   ]
  },
  {
   "cell_type": "code",
   "execution_count": null,
   "id": "af7c3181",
   "metadata": {},
   "outputs": [],
   "source": []
  },
  {
   "cell_type": "code",
   "execution_count": 67,
   "id": "a627bfeb",
   "metadata": {},
   "outputs": [
    {
     "name": "stdout",
     "output_type": "stream",
     "text": [
      "Object deleted successfully.\n"
     ]
    }
   ],
   "source": [
    "bucket_name = 'datatobestored'\n",
    "\n",
    "# Use the bucket object to delete the object\n",
    "try:\n",
    "    response = s3.Object(bucket_name, KEY).delete()\n",
    "    print(\"Object deleted successfully.\")\n",
    "except Exception as e:\n",
    "    print(\"Error deleting object:\", e)"
   ]
  },
  {
   "cell_type": "code",
   "execution_count": null,
   "id": "67e7a9a2",
   "metadata": {},
   "outputs": [],
   "source": []
  }
 ],
 "metadata": {
  "kernelspec": {
   "display_name": "Python 3 (ipykernel)",
   "language": "python",
   "name": "python3"
  },
  "language_info": {
   "codemirror_mode": {
    "name": "ipython",
    "version": 3
   },
   "file_extension": ".py",
   "mimetype": "text/x-python",
   "name": "python",
   "nbconvert_exporter": "python",
   "pygments_lexer": "ipython3",
   "version": "3.10.5"
  }
 },
 "nbformat": 4,
 "nbformat_minor": 5
}
